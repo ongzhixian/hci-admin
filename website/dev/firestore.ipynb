{
    "metadata": {
        "kernelspec": {
            "name": "python3",
            "display_name": "Python 3",
            "language": "python"
        },
        "language_info": {
            "name": "python",
            "version": "3.7.6",
            "mimetype": "text/x-python",
            "codemirror_mode": {
                "name": "ipython",
                "version": 3
            },
            "pygments_lexer": "ipython3",
            "nbconvert_exporter": "python",
            "file_extension": ".py"
        }
    },
    "nbformat_minor": 2,
    "nbformat": 4,
    "cells": [
        {
            "cell_type": "code",
            "source": [
                "from google.cloud import firestore\r\n",
                "db = firestore.Client()\r\n",
                ""
            ],
            "metadata": {
                "azdata_cell_guid": "5d2a3e5d-52e0-4fa6-b73c-8e55d3ec672d"
            },
            "outputs": [],
            "execution_count": 1
        },
        {
            "cell_type": "code",
            "source": [
                "# Create a new collection and a document \r\n",
                "doc_ref = db.collection(u'users').document(u'alovelace')\r\n",
                "doc_ref.set({\r\n",
                "    u'first': u'Ada',\r\n",
                "    u'last': u'Lovelace',\r\n",
                "    u'born': 1815\r\n",
                "})"
            ],
            "metadata": {
                "azdata_cell_guid": "80cdd842-f302-4664-9bb6-9dec698bcc20"
            },
            "outputs": [
                {
                    "data": {
                        "text/plain": "update_time {\n  seconds: 1607501391\n  nanos: 701080000\n}"
                    },
                    "metadata": {},
                    "execution_count": 2,
                    "output_type": "execute_result"
                }
            ],
            "execution_count": 2
        },
        {
            "cell_type": "code",
            "source": [
                "# Add another document\r\n",
                "doc_ref = db.collection(u'users').document(u'aturing')\r\n",
                "doc_ref.set({\r\n",
                "    u'first': u'Alan',\r\n",
                "    u'middle': u'Mathison',\r\n",
                "    u'last': u'Turing',\r\n",
                "    u'born': 1912\r\n",
                "})\r\n",
                ""
            ],
            "metadata": {
                "azdata_cell_guid": "f59dcf53-62cc-4fcb-af0d-9671de06a54d",
                "tags": []
            },
            "outputs": [
                {
                    "data": {
                        "text/plain": "update_time {\n  seconds: 1607501451\n  nanos: 874282000\n}"
                    },
                    "metadata": {},
                    "execution_count": 3,
                    "output_type": "execute_result"
                }
            ],
            "execution_count": 3
        },
        {
            "cell_type": "code",
            "source": [
                "# Retrieve users\r\n",
                "users_ref = db.collection(u'users')\r\n",
                "docs = users_ref.stream()\r\n",
                "\r\n",
                "for doc in docs:\r\n",
                "    print(f'{doc.id} => {doc.to_dict()}')"
            ],
            "metadata": {
                "azdata_cell_guid": "13a0626e-108f-407b-b0b5-fbd588e44b41"
            },
            "outputs": [
                {
                    "name": "stdout",
                    "text": "alovelace => {'last': 'Lovelace', 'born': 1815, 'first': 'Ada'}\naturing => {'first': 'Alan', 'born': 1912, 'middle': 'Mathison', 'last': 'Turing'}\n",
                    "output_type": "stream"
                }
            ],
            "execution_count": 4
        },
        {
            "cell_type": "code",
            "source": [
                "\r\n",
                "\r\n",
                ""
            ],
            "metadata": {
                "azdata_cell_guid": "45e77f08-c2f3-4f58-9171-6d5f41b78527"
            },
            "outputs": [],
            "execution_count": null
        }
    ]
}