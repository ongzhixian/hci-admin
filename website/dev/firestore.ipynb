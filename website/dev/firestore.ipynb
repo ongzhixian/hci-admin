{
    "metadata": {
        "kernelspec": {
            "name": "python3",
            "display_name": "Python 3",
            "language": "python"
        },
        "language_info": {
            "name": "python",
            "version": "3.7.7",
            "mimetype": "text/x-python",
            "codemirror_mode": {
                "name": "ipython",
                "version": 3
            },
            "pygments_lexer": "ipython3",
            "nbconvert_exporter": "python",
            "file_extension": ".py"
        }
    },
    "nbformat_minor": 2,
    "nbformat": 4,
    "cells": [
        {
            "cell_type": "code",
            "source": [
                "from google.cloud import firestore\r\n",
                "db = firestore.Client()\r\n",
                ""
            ],
            "metadata": {
                "azdata_cell_guid": "5d2a3e5d-52e0-4fa6-b73c-8e55d3ec672d"
            },
            "outputs": [],
            "execution_count": 1
        },
        {
            "cell_type": "code",
            "source": [
                "# Create a new collection and a document \r\n",
                "doc_ref = db.collection(u'users').document(u'alovelace')\r\n",
                "doc_ref.set({\r\n",
                "    u'first': u'Ada',\r\n",
                "    u'last': u'Lovelace',\r\n",
                "    u'born': 1815\r\n",
                "})"
            ],
            "metadata": {
                "azdata_cell_guid": "80cdd842-f302-4664-9bb6-9dec698bcc20"
            },
            "outputs": [
                {
                    "output_type": "execute_result",
                    "execution_count": 2,
                    "data": {
                        "text/plain": "update_time {\n  seconds: 1607501391\n  nanos: 701080000\n}"
                    },
                    "metadata": {}
                }
            ],
            "execution_count": 2
        },
        {
            "cell_type": "code",
            "source": [
                "# Add another document\r\n",
                "doc_ref = db.collection(u'users').document(u'aturing')\r\n",
                "doc_ref.set({\r\n",
                "    u'first': u'Alan',\r\n",
                "    u'middle': u'Mathison',\r\n",
                "    u'last': u'Turing',\r\n",
                "    u'born': 1912\r\n",
                "})\r\n",
                ""
            ],
            "metadata": {
                "azdata_cell_guid": "f59dcf53-62cc-4fcb-af0d-9671de06a54d",
                "tags": []
            },
            "outputs": [
                {
                    "output_type": "execute_result",
                    "execution_count": 3,
                    "data": {
                        "text/plain": "update_time {\n  seconds: 1607501451\n  nanos: 874282000\n}"
                    },
                    "metadata": {}
                }
            ],
            "execution_count": 3
        },
        {
            "cell_type": "code",
            "source": [
                "# Retrieve users\r\n",
                "users_ref = db.collection(u'users')\r\n",
                "docs = users_ref.stream()\r\n",
                "\r\n",
                "for doc in docs:\r\n",
                "    print(f'{doc.id} => {doc.to_dict()}')"
            ],
            "metadata": {
                "azdata_cell_guid": "13a0626e-108f-407b-b0b5-fbd588e44b41"
            },
            "outputs": [
                {
                    "output_type": "stream",
                    "name": "stdout",
                    "text": "alovelace => {'last': 'Lovelace', 'born': 1815, 'first': 'Ada'}\naturing => {'first': 'Alan', 'born': 1912, 'middle': 'Mathison', 'last': 'Turing'}\n"
                }
            ],
            "execution_count": 4
        },
        {
            "cell_type": "code",
            "source": [
                "\r\n",
                "# Imports the Google Cloud client library\r\n",
                "from google.cloud import storage\r\n",
                "\r\n",
                "# Instantiates a client\r\n",
                "storage_client = storage.Client()\r\n",
                "\r\n",
                "# The name for the new bucket\r\n",
                "bucket_name = \"my-new-bucket3\"\r\n",
                "\r\n",
                "# Creates the new bucket\r\n",
                "bucket = storage_client.create_bucket(bucket_name)\r\n",
                "\r\n",
                "# print(\"Bucket {} created.\".format(bucket.name))\r\n",
                ""
            ],
            "metadata": {
                "azdata_cell_guid": "45e77f08-c2f3-4f58-9171-6d5f41b78527"
            },
            "outputs": [
                {
                    "output_type": "error",
                    "ename": "Conflict",
                    "evalue": "409 POST https://storage.googleapis.com/storage/v1/b?project=hci-admin&prettyPrint=false: You already own this bucket. Please select another name.",
                    "traceback": [
                        "\u001b[1;31m---------------------------------------------------------------------------\u001b[0m",
                        "\u001b[1;31mConflict\u001b[0m                                  Traceback (most recent call last)",
                        "\u001b[1;32m<ipython-input-4-8ab6d9ed8be1>\u001b[0m in \u001b[0;36m<module>\u001b[1;34m\u001b[0m\n\u001b[0;32m      9\u001b[0m \u001b[1;33m\u001b[0m\u001b[0m\n\u001b[0;32m     10\u001b[0m \u001b[1;31m# Creates the new bucket\u001b[0m\u001b[1;33m\u001b[0m\u001b[1;33m\u001b[0m\u001b[1;33m\u001b[0m\u001b[0m\n\u001b[1;32m---> 11\u001b[1;33m \u001b[0mbucket\u001b[0m \u001b[1;33m=\u001b[0m \u001b[0mstorage_client\u001b[0m\u001b[1;33m.\u001b[0m\u001b[0mcreate_bucket\u001b[0m\u001b[1;33m(\u001b[0m\u001b[0mbucket_name\u001b[0m\u001b[1;33m)\u001b[0m\u001b[1;33m\u001b[0m\u001b[1;33m\u001b[0m\u001b[0m\n\u001b[0m\u001b[0;32m     12\u001b[0m \u001b[1;33m\u001b[0m\u001b[0m\n\u001b[0;32m     13\u001b[0m \u001b[1;31m# print(\"Bucket {} created.\".format(bucket.name))\u001b[0m\u001b[1;33m\u001b[0m\u001b[1;33m\u001b[0m\u001b[1;33m\u001b[0m\u001b[0m\n",
                        "\u001b[1;32mC:\\Apps\\Python\\lib\\site-packages\\google\\cloud\\storage\\client.py\u001b[0m in \u001b[0;36mcreate_bucket\u001b[1;34m(self, bucket_or_name, requester_pays, project, user_project, location, predefined_acl, predefined_default_object_acl, timeout)\u001b[0m\n\u001b[0;32m    533\u001b[0m             \u001b[0m_target_object\u001b[0m\u001b[1;33m=\u001b[0m\u001b[0mbucket\u001b[0m\u001b[1;33m,\u001b[0m\u001b[1;33m\u001b[0m\u001b[1;33m\u001b[0m\u001b[0m\n\u001b[0;32m    534\u001b[0m             \u001b[0mtimeout\u001b[0m\u001b[1;33m=\u001b[0m\u001b[0mtimeout\u001b[0m\u001b[1;33m,\u001b[0m\u001b[1;33m\u001b[0m\u001b[1;33m\u001b[0m\u001b[0m\n\u001b[1;32m--> 535\u001b[1;33m             \u001b[0mretry\u001b[0m\u001b[1;33m=\u001b[0m\u001b[0mDEFAULT_RETRY\u001b[0m\u001b[1;33m,\u001b[0m\u001b[1;33m\u001b[0m\u001b[1;33m\u001b[0m\u001b[0m\n\u001b[0m\u001b[0;32m    536\u001b[0m         )\n\u001b[0;32m    537\u001b[0m \u001b[1;33m\u001b[0m\u001b[0m\n",
                        "\u001b[1;32mC:\\Apps\\Python\\lib\\site-packages\\google\\cloud\\storage\\_http.py\u001b[0m in \u001b[0;36mapi_request\u001b[1;34m(self, *args, **kwargs)\u001b[0m\n\u001b[0;32m     61\u001b[0m             \u001b[1;32mif\u001b[0m \u001b[0mretry\u001b[0m\u001b[1;33m:\u001b[0m\u001b[1;33m\u001b[0m\u001b[1;33m\u001b[0m\u001b[0m\n\u001b[0;32m     62\u001b[0m                 \u001b[0mcall\u001b[0m \u001b[1;33m=\u001b[0m \u001b[0mretry\u001b[0m\u001b[1;33m(\u001b[0m\u001b[0mcall\u001b[0m\u001b[1;33m)\u001b[0m\u001b[1;33m\u001b[0m\u001b[1;33m\u001b[0m\u001b[0m\n\u001b[1;32m---> 63\u001b[1;33m         \u001b[1;32mreturn\u001b[0m \u001b[0mcall\u001b[0m\u001b[1;33m(\u001b[0m\u001b[1;33m)\u001b[0m\u001b[1;33m\u001b[0m\u001b[1;33m\u001b[0m\u001b[0m\n\u001b[0m",
                        "\u001b[1;32mC:\\Apps\\Python\\lib\\site-packages\\google\\api_core\\retry.py\u001b[0m in \u001b[0;36mretry_wrapped_func\u001b[1;34m(*args, **kwargs)\u001b[0m\n\u001b[0;32m    284\u001b[0m                 \u001b[0msleep_generator\u001b[0m\u001b[1;33m,\u001b[0m\u001b[1;33m\u001b[0m\u001b[1;33m\u001b[0m\u001b[0m\n\u001b[0;32m    285\u001b[0m                 \u001b[0mself\u001b[0m\u001b[1;33m.\u001b[0m\u001b[0m_deadline\u001b[0m\u001b[1;33m,\u001b[0m\u001b[1;33m\u001b[0m\u001b[1;33m\u001b[0m\u001b[0m\n\u001b[1;32m--> 286\u001b[1;33m                 \u001b[0mon_error\u001b[0m\u001b[1;33m=\u001b[0m\u001b[0mon_error\u001b[0m\u001b[1;33m,\u001b[0m\u001b[1;33m\u001b[0m\u001b[1;33m\u001b[0m\u001b[0m\n\u001b[0m\u001b[0;32m    287\u001b[0m             )\n\u001b[0;32m    288\u001b[0m \u001b[1;33m\u001b[0m\u001b[0m\n",
                        "\u001b[1;32mC:\\Apps\\Python\\lib\\site-packages\\google\\api_core\\retry.py\u001b[0m in \u001b[0;36mretry_target\u001b[1;34m(target, predicate, sleep_generator, deadline, on_error)\u001b[0m\n\u001b[0;32m    182\u001b[0m     \u001b[1;32mfor\u001b[0m \u001b[0msleep\u001b[0m \u001b[1;32min\u001b[0m \u001b[0msleep_generator\u001b[0m\u001b[1;33m:\u001b[0m\u001b[1;33m\u001b[0m\u001b[1;33m\u001b[0m\u001b[0m\n\u001b[0;32m    183\u001b[0m         \u001b[1;32mtry\u001b[0m\u001b[1;33m:\u001b[0m\u001b[1;33m\u001b[0m\u001b[1;33m\u001b[0m\u001b[0m\n\u001b[1;32m--> 184\u001b[1;33m             \u001b[1;32mreturn\u001b[0m \u001b[0mtarget\u001b[0m\u001b[1;33m(\u001b[0m\u001b[1;33m)\u001b[0m\u001b[1;33m\u001b[0m\u001b[1;33m\u001b[0m\u001b[0m\n\u001b[0m\u001b[0;32m    185\u001b[0m \u001b[1;33m\u001b[0m\u001b[0m\n\u001b[0;32m    186\u001b[0m         \u001b[1;31m# pylint: disable=broad-except\u001b[0m\u001b[1;33m\u001b[0m\u001b[1;33m\u001b[0m\u001b[1;33m\u001b[0m\u001b[0m\n",
                        "\u001b[1;32mC:\\Apps\\Python\\lib\\site-packages\\google\\cloud\\_http.py\u001b[0m in \u001b[0;36mapi_request\u001b[1;34m(self, method, path, query_params, data, content_type, headers, api_base_url, api_version, expect_json, _target_object, timeout)\u001b[0m\n\u001b[0;32m    436\u001b[0m \u001b[1;33m\u001b[0m\u001b[0m\n\u001b[0;32m    437\u001b[0m         \u001b[1;32mif\u001b[0m \u001b[1;32mnot\u001b[0m \u001b[1;36m200\u001b[0m \u001b[1;33m<=\u001b[0m \u001b[0mresponse\u001b[0m\u001b[1;33m.\u001b[0m\u001b[0mstatus_code\u001b[0m \u001b[1;33m<\u001b[0m \u001b[1;36m300\u001b[0m\u001b[1;33m:\u001b[0m\u001b[1;33m\u001b[0m\u001b[1;33m\u001b[0m\u001b[0m\n\u001b[1;32m--> 438\u001b[1;33m             \u001b[1;32mraise\u001b[0m \u001b[0mexceptions\u001b[0m\u001b[1;33m.\u001b[0m\u001b[0mfrom_http_response\u001b[0m\u001b[1;33m(\u001b[0m\u001b[0mresponse\u001b[0m\u001b[1;33m)\u001b[0m\u001b[1;33m\u001b[0m\u001b[1;33m\u001b[0m\u001b[0m\n\u001b[0m\u001b[0;32m    439\u001b[0m \u001b[1;33m\u001b[0m\u001b[0m\n\u001b[0;32m    440\u001b[0m         \u001b[1;32mif\u001b[0m \u001b[0mexpect_json\u001b[0m \u001b[1;32mand\u001b[0m \u001b[0mresponse\u001b[0m\u001b[1;33m.\u001b[0m\u001b[0mcontent\u001b[0m\u001b[1;33m:\u001b[0m\u001b[1;33m\u001b[0m\u001b[1;33m\u001b[0m\u001b[0m\n",
                        "\u001b[1;31mConflict\u001b[0m: 409 POST https://storage.googleapis.com/storage/v1/b?project=hci-admin&prettyPrint=false: You already own this bucket. Please select another name."
                    ]
                }
            ],
            "execution_count": 4
        },
        {
            "cell_type": "code",
            "source": [
                "users = db.collection('user')\r\n",
                "users"
            ],
            "metadata": {
                "azdata_cell_guid": "7d985b5a-60c6-48b7-9239-1882a4980e2b",
                "tags": []
            },
            "outputs": [
                {
                    "data": {
                        "text/plain": "<google.cloud.firestore_v1.collection.CollectionReference at 0x26e592eea08>"
                    },
                    "metadata": {},
                    "execution_count": 4,
                    "output_type": "execute_result"
                }
            ],
            "execution_count": 4
        }
    ]
}