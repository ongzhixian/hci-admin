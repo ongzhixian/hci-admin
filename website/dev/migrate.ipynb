{
    "metadata": {
        "kernelspec": {
            "name": "python3",
            "display_name": "Python 3",
            "language": "python"
        },
        "language_info": {
            "name": "python",
            "version": "3.7.6",
            "mimetype": "text/x-python",
            "codemirror_mode": {
                "name": "ipython",
                "version": 3
            },
            "pygments_lexer": "ipython3",
            "nbconvert_exporter": "python",
            "file_extension": ".py"
        }
    },
    "nbformat_minor": 2,
    "nbformat": 4,
    "cells": [
        {
            "cell_type": "code",
            "source": [
                "import sqlite3\r\n",
                "from urllib.parse import urlparse, urlsplit\r\n",
                "from hashlib import sha256 as hash\r\n",
                ""
            ],
            "metadata": {
                "azdata_cell_guid": "b9f64fb3-b8c9-4fe5-8138-447682f6a8c4"
            },
            "outputs": [],
            "execution_count": 1
        },
        {
            "cell_type": "code",
            "source": [
                "sqlite_file = 'C:/Users/zong/Documents/PowerShell/url_kb.sqlite3'"
            ],
            "metadata": {
                "azdata_cell_guid": "f4fcdc83-9dd0-45b9-9a4f-5627066f9878"
            },
            "outputs": [],
            "execution_count": 2
        },
        {
            "cell_type": "code",
            "source": [
                "batch_size = 10000\r\n",
                "with sqlite3.connect(sqlite_file) as conn:\r\n",
                "    cur = conn.cursor()\r\n",
                "    cur.execute(\"SELECT * FROM raw_url;\")\r\n",
                "    while True:\r\n",
                "        all = cur.fetchmany(batch_size)\r\n",
                "        if len(all) > 0:\r\n",
                "            print(len(all))\r\n",
                "        else:\r\n",
                "            break\r\n",
                "    cur.close()"
            ],
            "metadata": {
                "azdata_cell_guid": "9d517e0d-9a70-4e48-b136-758968bfe8a3"
            },
            "outputs": [
                {
                    "name": "stdout",
                    "text": "10000\n10000\n10000\n10000\n10000\n10000\n10000\n10000\n10000",
                    "output_type": "stream"
                },
                {
                    "name": "stdout",
                    "text": "\n6017\n",
                    "output_type": "stream"
                }
            ],
            "execution_count": 3
        },
        {
            "cell_type": "code",
            "source": [
                "with sqlite3.connect(sqlite_file) as conn:\r\n",
                "    cur = conn.cursor()\r\n",
                "    cur.execute(\"SELECT * FROM raw_url;\")\r\n",
                "    all = cur.fetchmany(10)\r\n",
                "    cur.close()\r\n",
                ""
            ],
            "metadata": {
                "azdata_cell_guid": "925c1e0c-b335-4e48-80d5-f168a73f7517"
            },
            "outputs": [],
            "execution_count": 4
        },
        {
            "cell_type": "code",
            "source": [
                "t = all[0]\r\n",
                "target_url = t[2]\r\n",
                "target_url"
            ],
            "metadata": {
                "azdata_cell_guid": "030cca62-bbf3-4521-b5e4-4fc6b11f9387",
                "tags": []
            },
            "outputs": [
                {
                    "data": {
                        "text/plain": "'https://www.venea.net/'"
                    },
                    "metadata": {},
                    "execution_count": 5,
                    "output_type": "execute_result"
                }
            ],
            "execution_count": 5
        },
        {
            "cell_type": "code",
            "source": [
                "urlparse(target_url)"
            ],
            "metadata": {
                "azdata_cell_guid": "e2aa554f-fec5-4c10-ac58-acd1f16e8e93"
            },
            "outputs": [
                {
                    "data": {
                        "text/plain": "ParseResult(scheme='https', netloc='www.venea.net', path='/', params='', query='', fragment='')"
                    },
                    "metadata": {},
                    "execution_count": 6,
                    "output_type": "execute_result"
                }
            ],
            "execution_count": 6
        },
        {
            "cell_type": "code",
            "source": [
                "def create_table_parsed_urls():\r\n",
                "    sql = \"\"\"\r\n",
                "    CREATE TABLE IF NOT EXISTS parsed_urls (\r\n",
                "        hash text       NOT NULL PRIMARY KEY,\r\n",
                "        scheme text     NOT NULL,\r\n",
                "        netloc text     NOT NULL,\r\n",
                "        path text       NOT NULL,\r\n",
                "        params text     NOT NULL,\r\n",
                "        query text      NOT NULL,\r\n",
                "        fragment text   NOT NULL,\r\n",
                "        count integer   \r\n",
                "    \t\r\n",
                "    );\r\n",
                "    \"\"\"\r\n",
                "\r\n",
                "    with sqlite3.connect(sqlite_file) as conn:\r\n",
                "        try:\r\n",
                "            cur = conn.cursor()\r\n",
                "            cur.execute(sql)\r\n",
                "            cur.close()\r\n",
                "        except Error as e:\r\n",
                "            print(e)\r\n",
                "\r\n",
                "def insert_parsed_urls(sql_params):\r\n",
                "    sql = ''' INSERT INTO parsed_urls(hash, scheme, netloc, path, params, query, fragment, count) VALUES (?,?,?,?,?,?,?,?)\r\n",
                "    ON CONFLICT (hash) DO\r\n",
                "    UPDATE \r\n",
                "    SET count = count + 1\r\n",
                "    WHERE hash=?\r\n",
                "    ;'''\r\n",
                "    with sqlite3.connect(sqlite_file) as conn:\r\n",
                "        try:\r\n",
                "            cur = conn.cursor()\r\n",
                "            cur.execute(sql, sql_params)\r\n",
                "            cur.close()\r\n",
                "            #conn.commit()\r\n",
                "        except Exception as e:\r\n",
                "            print(e)\r\n",
                "\r\n",
                "def get_page(page_number):\r\n",
                "    batch_size = 10000\r\n",
                "    offset = (page_number - 1) * batch_size\r\n",
                "    with sqlite3.connect(sqlite_file) as conn:\r\n",
                "        cur = conn.cursor()\r\n",
                "        cur.execute(\"SELECT * FROM raw_url LIMIT ? OFFSET ?;\", (batch_size, offset))\r\n",
                "        all = cur.fetchall()\r\n",
                "        cur.close()\r\n",
                "        return all"
            ],
            "metadata": {
                "azdata_cell_guid": "e398ba0d-b63c-4474-ae0f-31138ceb2251",
                "tags": []
            },
            "outputs": [],
            "execution_count": 7
        },
        {
            "cell_type": "code",
            "source": [
                "parse_result = urlparse(target_url)\r\n",
                "print(parse_result)\r\n",
                "print(parse_result.scheme)\r\n",
                "\r\n",
                "\r\n",
                "h = hash(target_url.encode('UTF8')).hexdigest()\r\n",
                "q = (h, parse_result.scheme, parse_result.netloc, parse_result.path, parse_result.params, parse_result.query, parse_result.fragment, 1, h)\r\n",
                "q\r\n",
                "insert_parsed_urls(q)\r\n",
                ""
            ],
            "metadata": {
                "azdata_cell_guid": "da999b15-c466-4f30-8092-5ba8d7ffe4bc",
                "tags": []
            },
            "outputs": [
                {
                    "name": "stdout",
                    "text": "ParseResult(scheme='https', netloc='www.venea.net', path='/', params='', query='', fragment='')\nhttps\n",
                    "output_type": "stream"
                }
            ],
            "execution_count": 8
        },
        {
            "cell_type": "code",
            "source": [
                "records = get_page(3)\r\n",
                "record_count = len(records)\r\n",
                "if record_count > 0:\r\n",
                "    for r in records:\r\n",
                "        target_url = r[2]\r\n",
                "        parse_result = urlparse(target_url)\r\n",
                "        h = hash(target_url.encode('UTF8')).hexdigest()\r\n",
                "        q = (h, parse_result.scheme, parse_result.netloc, parse_result.path, parse_result.params, parse_result.query, parse_result.fragment, 1, h)\r\n",
                "        insert_parsed_urls(q)\r\n",
                "else:\r\n",
                "    print(\"do nothing\")"
            ],
            "metadata": {
                "azdata_cell_guid": "dbe04ba2-9d63-4714-8180-393a7627f760"
            },
            "outputs": [],
            "execution_count": 19
        }
    ]
}